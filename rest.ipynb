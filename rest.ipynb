{
 "metadata": {
  "language_info": {
   "codemirror_mode": {
    "name": "ipython",
    "version": 3
   },
   "file_extension": ".py",
   "mimetype": "text/x-python",
   "name": "python",
   "nbconvert_exporter": "python",
   "pygments_lexer": "ipython3",
   "version": "3.8.3-final"
  },
  "orig_nbformat": 2,
  "kernelspec": {
   "name": "python3",
   "display_name": "Python 3"
  }
 },
 "nbformat": 4,
 "nbformat_minor": 2,
 "cells": [
  {
   "source": [
    "# Python "
   ],
   "cell_type": "markdown",
   "metadata": {}
  },
  {
   "source": [
    "## Print()\n",
    "* It is a built-in function used to print the statements typed within the parentheses. "
   ],
   "cell_type": "markdown",
   "metadata": {}
  },
  {
   "source": [
    "## printing hello world program"
   ],
   "cell_type": "markdown",
   "metadata": {}
  },
  {
   "cell_type": "code",
   "execution_count": 5,
   "metadata": {},
   "outputs": [
    {
     "output_type": "stream",
     "name": "stdout",
     "text": [
      "Hello World\n"
     ]
    }
   ],
   "source": [
    "print(\"Hello World\")"
   ]
  },
  {
   "source": [
    "### In the print function we can use both single and double quotes. \n",
    "\n",
    "### And using a separate print()  will give a gap of new line."
   ],
   "cell_type": "markdown",
   "metadata": {}
  },
  {
   "cell_type": "code",
   "execution_count": 7,
   "metadata": {},
   "outputs": [
    {
     "output_type": "stream",
     "name": "stdout",
     "text": [
      "Using single quotation\n\nUsing Double quotation\n"
     ]
    }
   ],
   "source": [
    "print('Using single quotation')\n",
    "print()\n",
    "print('Using Double quotation')"
   ]
  },
  {
   "source": [
    "### To print a particular statement to a new line we can use \\n ."
   ],
   "cell_type": "markdown",
   "metadata": {}
  },
  {
   "cell_type": "code",
   "execution_count": 9,
   "metadata": {},
   "outputs": [
    {
     "output_type": "stream",
     "name": "stdout",
     "text": [
      "Hello all \nThis is saravanasubbiah\n"
     ]
    }
   ],
   "source": [
    "print(\"Hello all \\nThis is saravanasubbiah\")"
   ]
  },
  {
   "source": [
    "print('Hi man, whats\\'s up? ')"
   ],
   "cell_type": "code",
   "metadata": {},
   "execution_count": 11,
   "outputs": [
    {
     "output_type": "stream",
     "name": "stdout",
     "text": [
      "Hi man, whats's up? \n"
     ]
    }
   ]
  },
  {
   "source": [
    "### In the above statement we have used backslash(\\) to escape the sinle quote within the print()."
   ],
   "cell_type": "markdown",
   "metadata": {}
  },
  {
   "cell_type": "code",
   "execution_count": null,
   "metadata": {},
   "outputs": [],
   "source": []
  }
 ]
}